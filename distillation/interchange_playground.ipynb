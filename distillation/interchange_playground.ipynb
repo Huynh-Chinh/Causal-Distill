{
 "cells": [
  {
   "cell_type": "code",
   "execution_count": 9,
   "metadata": {},
   "outputs": [],
   "source": [
    "import argparse\n",
    "import json\n",
    "import os\n",
    "import pickle\n",
    "import shutil\n",
    "\n",
    "import numpy as np\n",
    "import torch\n",
    "\n",
    "import argparse\n",
    "import json\n",
    "import os\n",
    "import pickle\n",
    "import shutil\n",
    "\n",
    "import numpy as np\n",
    "import torch\n",
    "from torch import nn\n",
    "\n",
    "from causal_distiller import *\n",
    "from lm_seqs_dataset import LmSeqsDataset\n",
    "from transformers import (\n",
    "    AutoTokenizer,\n",
    "    BertConfig,\n",
    "    BertForMaskedLM,\n",
    "    BertTokenizer,\n",
    "    DistilBertConfig,\n",
    "    DistilBertTokenizer,\n",
    "    GPT2Config,\n",
    "    GPT2LMHeadModel,\n",
    "    GPT2Tokenizer,\n",
    "    RobertaConfig,\n",
    "    RobertaForMaskedLM,\n",
    "    RobertaTokenizer,\n",
    ")"
   ]
  },
  {
   "cell_type": "markdown",
   "metadata": {},
   "source": [
    "A little section for writing the neuron mapping file"
   ]
  },
  {
   "cell_type": "code",
   "execution_count": 15,
   "metadata": {},
   "outputs": [],
   "source": [
    "neuron_mapping = {\n",
    "    \"interchange_variable_mappings\": [\n",
    "        {\n",
    "            \"teacher_variable_names\": [\n",
    "                \"$L:[0:2]$H:[0:12]$[0:64]\"\n",
    "            ],\n",
    "            \"student_variable_names\": [\n",
    "                \"$L:0$H:[0:12]$[0:64]\"\n",
    "            ]\n",
    "        },\n",
    "        {\n",
    "            \"teacher_variable_names\": [\n",
    "                \"$L:[2:4]$H:[0:12]$[0:64]\"\n",
    "            ],\n",
    "            \"student_variable_names\": [\n",
    "                \"$L:1$H:[0:12]$[0:64]\"\n",
    "            ]\n",
    "        },\n",
    "        {\n",
    "            \"teacher_variable_names\": [\n",
    "                \"$L:[4:6]$H:[0:12]$[0:64]\"\n",
    "            ],\n",
    "            \"student_variable_names\": [\n",
    "                \"$L:2$H:[0:12]$[0:64]\"\n",
    "            ]\n",
    "        },\n",
    "        {\n",
    "            \"teacher_variable_names\": [\n",
    "                \"$L:[6:8]$H:[0:12]$[0:64]\"\n",
    "            ],\n",
    "            \"student_variable_names\": [\n",
    "                \"$L:3$H:[0:12]$[0:64]\"\n",
    "            ]\n",
    "        },\n",
    "        {\n",
    "            \"teacher_variable_names\": [\n",
    "                \"$L:[8:10]$H:[0:12]$[0:64]\"\n",
    "            ],\n",
    "            \"student_variable_names\": [\n",
    "                \"$L:4$H:[0:12]$[0:64]\"\n",
    "            ]\n",
    "        },\n",
    "        {\n",
    "            \"teacher_variable_names\": [\n",
    "                \"$L:[10:12]$H:[0:12]$[0:64]\"\n",
    "            ],\n",
    "            \"student_variable_names\": [\n",
    "                \"$L:5$H:[0:12]$[0:64]\"\n",
    "            ]\n",
    "        }\n",
    "    ]\n",
    "}"
   ]
  },
  {
   "cell_type": "code",
   "execution_count": 16,
   "metadata": {},
   "outputs": [],
   "source": [
    "with open('./training_configs/multiple_single_multilayer_layer_6.nm', 'w') as outfile:\n",
    "    json.dump(neuron_mapping, outfile, indent=4)"
   ]
  },
  {
   "cell_type": "markdown",
   "metadata": {},
   "source": [
    "Load sample dataset using HuggingFace Dataset interface"
   ]
  },
  {
   "cell_type": "code",
   "execution_count": null,
   "metadata": {},
   "outputs": [],
   "source": [
    "from datasets import load_dataset"
   ]
  },
  {
   "cell_type": "code",
   "execution_count": null,
   "metadata": {},
   "outputs": [],
   "source": [
    "wikitext = load_dataset(\n",
    "    \"wikitext\", \"wikitext-103-v1\",\n",
    "    cache_dir=\"./distill_cache/\"\n",
    ")"
   ]
  },
  {
   "cell_type": "code",
   "execution_count": null,
   "metadata": {},
   "outputs": [],
   "source": [
    "bookcorpus = load_dataset(\n",
    "    \"bookcorpus\", cache_dir=\"./distill_cache/\"\n",
    ")"
   ]
  },
  {
   "cell_type": "code",
   "execution_count": null,
   "metadata": {},
   "outputs": [],
   "source": [
    "bookcorpus"
   ]
  },
  {
   "cell_type": "code",
   "execution_count": null,
   "metadata": {},
   "outputs": [],
   "source": [
    "wikitext"
   ]
  },
  {
   "cell_type": "markdown",
   "metadata": {},
   "source": [
    "tokenizer stuffs"
   ]
  },
  {
   "cell_type": "code",
   "execution_count": null,
   "metadata": {},
   "outputs": [],
   "source": [
    "tokenizer = AutoTokenizer.from_pretrained(\"bert-base-uncased\", cache_dir=\"./distill_cache/\")"
   ]
  },
  {
   "cell_type": "code",
   "execution_count": null,
   "metadata": {},
   "outputs": [],
   "source": [
    "def tokenize_function(examples):\n",
    "    token_ids = tokenizer(\n",
    "        examples[\"text\"], \n",
    "        return_token_type_ids=False,\n",
    "        return_attention_mask=False,\n",
    "        return_overflowing_tokens=False,\n",
    "        return_special_tokens_mask=False,\n",
    "        return_offsets_mapping=False,\n",
    "        return_length=False,\n",
    "    )\n",
    "    print(token_ids[\"input_ids\"])\n",
    "    FAIL()"
   ]
  },
  {
   "cell_type": "code",
   "execution_count": null,
   "metadata": {},
   "outputs": [],
   "source": [
    "wikitext[\"train\"].map(\n",
    "    tokenize_function,\n",
    "    batched=True,\n",
    "    num_proc=10,\n",
    "    load_from_cache_file=False,\n",
    "    desc=\"Running tokenizer on dataset line_by_line\",\n",
    ")"
   ]
  },
  {
   "cell_type": "code",
   "execution_count": 1,
   "metadata": {},
   "outputs": [],
   "source": [
    "import torch"
   ]
  },
  {
   "cell_type": "code",
   "execution_count": 6,
   "metadata": {},
   "outputs": [
    {
     "data": {
      "text/plain": [
       "tensor([126, 745, 857])"
      ]
     },
     "execution_count": 6,
     "metadata": {},
     "output_type": "execute_result"
    }
   ],
   "source": [
    "torch.tensor([1,2,3]).random_(1000)"
   ]
  },
  {
   "cell_type": "code",
   "execution_count": null,
   "metadata": {},
   "outputs": [],
   "source": []
  }
 ],
 "metadata": {
  "kernelspec": {
   "display_name": "Python 3",
   "language": "python",
   "name": "python3"
  },
  "language_info": {
   "codemirror_mode": {
    "name": "ipython",
    "version": 3
   },
   "file_extension": ".py",
   "mimetype": "text/x-python",
   "name": "python",
   "nbconvert_exporter": "python",
   "pygments_lexer": "ipython3",
   "version": "3.7.6"
  }
 },
 "nbformat": 4,
 "nbformat_minor": 4
}
