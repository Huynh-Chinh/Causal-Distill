{
 "cells": [
  {
   "cell_type": "code",
   "execution_count": null,
   "metadata": {},
   "outputs": [],
   "source": [
    "require BERT_stu and BERT_tea;\n",
    "require interchange_points_stu and interchange_points_tea; # where we interchange.\n",
    "require X_1 and Y_1 and X_2 and Y_2;\n",
    "# let us say, before the interchange point, f_*() is the neural computation; \n",
    "# after interchange g_*() is the neural computation\n",
    "# a whole neural network computation as N_*()\n",
    "N_*(.) = g_*(f_*(.))\n",
    "\n",
    "# ~= means trying to predict. this is standard training objective; this is before interchange.\n",
    "g_stu(f_stu(X_1)) = Y_1_s # s/t for predicted values for student/teacher models.\n",
    "g_tea(f_tea(X_1)) = Y_1_t \n",
    "# Or\n",
    "N_stu(X_1) = Y_1_s\n",
    "N_tea(X_1) = Y_1_t\n",
    "\n",
    "# Def. 1: the hidden repr can be expressed using a delta term at each interchanged dimension.\n",
    "f_tea(X_2) = f_tea(X_1) + delta_t\n",
    "f_stu(X_2) = f_stu(X_1) + delta_s\n",
    "\n",
    "# Moving around, and express as deriviatives.\n",
    "delta_t = f_tea(X_2) - f_tea(X_1)\n",
    "delta_t = [d(f_tea)/d(X)]*(X_2 - X_1)\n",
    "# Do the samething for the student model.\n",
    "\n",
    "# Express new prediction using deriviatives.\n",
    "Y_2_t = Y_1_t + [d(g_tea)/d(interchange_points_tea)]*delta_t # gradient sensitivity\n",
    "Y_2_s = Y_1_s + [d(g_stu)/d(interchange_points_stu)]*delta_s\n",
    "\n",
    "# Expanding them further.\n",
    "Y_2_t = Y_1_t + [d(g_tea)/d(interchange_points_tea)]*[d(f_tea)/d(X)]*(X_2 - X_1) # gradient sensitivity\n",
    "Y_2_s = Y_1_s + [d(g_stu)/d(interchange_points_stu)]*[d(f_stu)/d(X)]*(X_2 - X_1)\n",
    "\n",
    "# Chain rule.\n",
    "Y_2_t = Y_1_t + [d(N_tea)/d(X)]*(X_2 - X_1) # gradient sensitivity\n",
    "Y_2_s = Y_1_s + [d(N_stu)/d(X)]*(X_2 - X_1)\n",
    "\n",
    "# If we calculate the loss, the first part LOSS(Y_1_t, Y_1_s) is taking care by\n",
    "# standard distillation objectives.\n",
    "\n",
    "# LOSS([d(N_tea)/d(X)]*(X_2 - X_1), [d(N_stu)/d(X)]*(X_2 - X_1)) is essentially\n",
    "# to match gradient sensitivity."
   ]
  },
  {
   "cell_type": "code",
   "execution_count": null,
   "metadata": {},
   "outputs": [],
   "source": [
    "d_Y_teacher = [d(g_tea)/d(interchange_points_tea)]*delta_t"
   ]
  },
  {
   "cell_type": "code",
   "execution_count": null,
   "metadata": {},
   "outputs": [],
   "source": [
    "d_Y_student = [d(g_stu)/d(interchange_points_stu)]*delta_s"
   ]
  },
  {
   "cell_type": "code",
   "execution_count": null,
   "metadata": {},
   "outputs": [],
   "source": [
    "d(g_tea)/d(X1) * (d(interchange_points_tea)/d(X1))^-1 * d(interchange_points_tea)/d(X2)*X2"
   ]
  }
 ],
 "metadata": {
  "kernelspec": {
   "display_name": "Python 3",
   "language": "python",
   "name": "python3"
  },
  "language_info": {
   "codemirror_mode": {
    "name": "ipython",
    "version": 3
   },
   "file_extension": ".py",
   "mimetype": "text/x-python",
   "name": "python",
   "nbconvert_exporter": "python",
   "pygments_lexer": "ipython3",
   "version": "3.7.6"
  }
 },
 "nbformat": 4,
 "nbformat_minor": 4
}
