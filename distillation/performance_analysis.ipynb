{
 "cells": [
  {
   "cell_type": "code",
   "execution_count": 1,
   "metadata": {},
   "outputs": [],
   "source": [
    "import pandas as pd "
   ]
  },
  {
   "cell_type": "code",
   "execution_count": 3,
   "metadata": {},
   "outputs": [],
   "source": [
    "df = pd.read_csv (\"../glue_evaluation_results.csv\")"
   ]
  },
  {
   "cell_type": "code",
   "execution_count": 15,
   "metadata": {},
   "outputs": [
    {
     "data": {
      "text/html": [
       "<div>\n",
       "<style scoped>\n",
       "    .dataframe tbody tr th:only-of-type {\n",
       "        vertical-align: middle;\n",
       "    }\n",
       "\n",
       "    .dataframe tbody tr th {\n",
       "        vertical-align: top;\n",
       "    }\n",
       "\n",
       "    .dataframe thead th {\n",
       "        text-align: right;\n",
       "    }\n",
       "</style>\n",
       "<table border=\"1\" class=\"dataframe\">\n",
       "  <thead>\n",
       "    <tr style=\"text-align: right;\">\n",
       "      <th></th>\n",
       "      <th>training_paradigm</th>\n",
       "      <th>neuron_mapping</th>\n",
       "      <th>seed</th>\n",
       "      <th>glue_task</th>\n",
       "      <th>split</th>\n",
       "      <th>metrics</th>\n",
       "      <th>performance</th>\n",
       "    </tr>\n",
       "  </thead>\n",
       "  <tbody>\n",
       "    <tr>\n",
       "      <th>5</th>\n",
       "      <td>counterfactual</td>\n",
       "      <td>multiple_single_middle_late</td>\n",
       "      <td>42</td>\n",
       "      <td>mnli-mm</td>\n",
       "      <td>eval</td>\n",
       "      <td>accuracy</td>\n",
       "      <td>0.737083</td>\n",
       "    </tr>\n",
       "    <tr>\n",
       "      <th>7</th>\n",
       "      <td>counterfactual</td>\n",
       "      <td>multiple_single_multilayer</td>\n",
       "      <td>42</td>\n",
       "      <td>mnli-mm</td>\n",
       "      <td>eval</td>\n",
       "      <td>accuracy</td>\n",
       "      <td>0.737083</td>\n",
       "    </tr>\n",
       "    <tr>\n",
       "      <th>9</th>\n",
       "      <td>counterfactual</td>\n",
       "      <td>single_middle</td>\n",
       "      <td>42</td>\n",
       "      <td>mnli-mm</td>\n",
       "      <td>eval</td>\n",
       "      <td>accuracy</td>\n",
       "      <td>0.735964</td>\n",
       "    </tr>\n",
       "    <tr>\n",
       "      <th>11</th>\n",
       "      <td>standard</td>\n",
       "      <td>NaN</td>\n",
       "      <td>42</td>\n",
       "      <td>mnli-mm</td>\n",
       "      <td>eval</td>\n",
       "      <td>accuracy</td>\n",
       "      <td>0.727828</td>\n",
       "    </tr>\n",
       "  </tbody>\n",
       "</table>\n",
       "</div>"
      ],
      "text/plain": [
       "   training_paradigm               neuron_mapping  seed glue_task split  \\\n",
       "5     counterfactual  multiple_single_middle_late    42   mnli-mm  eval   \n",
       "7     counterfactual   multiple_single_multilayer    42   mnli-mm  eval   \n",
       "9     counterfactual                single_middle    42   mnli-mm  eval   \n",
       "11          standard                          NaN    42   mnli-mm  eval   \n",
       "\n",
       "     metrics  performance  \n",
       "5   accuracy     0.737083  \n",
       "7   accuracy     0.737083  \n",
       "9   accuracy     0.735964  \n",
       "11  accuracy     0.727828  "
      ]
     },
     "execution_count": 15,
     "metadata": {},
     "output_type": "execute_result"
    }
   ],
   "source": [
    "df[df[\"glue_task\"]==\"mnli-mm\"]"
   ]
  },
  {
   "cell_type": "code",
   "execution_count": null,
   "metadata": {},
   "outputs": [],
   "source": []
  }
 ],
 "metadata": {
  "kernelspec": {
   "display_name": "Python 3",
   "language": "python",
   "name": "python3"
  },
  "language_info": {
   "codemirror_mode": {
    "name": "ipython",
    "version": 3
   },
   "file_extension": ".py",
   "mimetype": "text/x-python",
   "name": "python",
   "nbconvert_exporter": "python",
   "pygments_lexer": "ipython3",
   "version": "3.7.6"
  }
 },
 "nbformat": 4,
 "nbformat_minor": 4
}
