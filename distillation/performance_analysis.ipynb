{
 "cells": [
  {
   "cell_type": "code",
   "execution_count": 2,
   "metadata": {},
   "outputs": [],
   "source": [
    "import pandas as pd "
   ]
  },
  {
   "cell_type": "markdown",
   "metadata": {},
   "source": [
    "QA Performance Analysis"
   ]
  },
  {
   "cell_type": "code",
   "execution_count": 22,
   "metadata": {},
   "outputs": [],
   "source": [
    "df = pd.read_csv (\"../qa_evaluation_results.csv\")"
   ]
  },
  {
   "cell_type": "code",
   "execution_count": 23,
   "metadata": {},
   "outputs": [],
   "source": [
    "qa_task_df = df.groupby(['neuron_mapping', 'metrics'])[\"performance\"].mean().reset_index()"
   ]
  },
  {
   "cell_type": "code",
   "execution_count": 24,
   "metadata": {},
   "outputs": [
    {
     "data": {
      "text/html": [
       "<div>\n",
       "<style scoped>\n",
       "    .dataframe tbody tr th:only-of-type {\n",
       "        vertical-align: middle;\n",
       "    }\n",
       "\n",
       "    .dataframe tbody tr th {\n",
       "        vertical-align: top;\n",
       "    }\n",
       "\n",
       "    .dataframe thead th {\n",
       "        text-align: right;\n",
       "    }\n",
       "</style>\n",
       "<table border=\"1\" class=\"dataframe\">\n",
       "  <thead>\n",
       "    <tr style=\"text-align: right;\">\n",
       "      <th></th>\n",
       "      <th>neuron_mapping</th>\n",
       "      <th>metrics</th>\n",
       "      <th>performance</th>\n",
       "    </tr>\n",
       "  </thead>\n",
       "  <tbody>\n",
       "    <tr>\n",
       "      <th>0</th>\n",
       "      <td>multiple_single_middle_late</td>\n",
       "      <td>em</td>\n",
       "      <td>58.752444</td>\n",
       "    </tr>\n",
       "    <tr>\n",
       "      <th>1</th>\n",
       "      <td>multiple_single_middle_late</td>\n",
       "      <td>f1</td>\n",
       "      <td>70.210375</td>\n",
       "    </tr>\n",
       "    <tr>\n",
       "      <th>2</th>\n",
       "      <td>multiple_single_multilayer</td>\n",
       "      <td>em</td>\n",
       "      <td>58.727215</td>\n",
       "    </tr>\n",
       "    <tr>\n",
       "      <th>3</th>\n",
       "      <td>multiple_single_multilayer</td>\n",
       "      <td>f1</td>\n",
       "      <td>70.499135</td>\n",
       "    </tr>\n",
       "    <tr>\n",
       "      <th>4</th>\n",
       "      <td>no_mapping</td>\n",
       "      <td>em</td>\n",
       "      <td>56.501419</td>\n",
       "    </tr>\n",
       "    <tr>\n",
       "      <th>5</th>\n",
       "      <td>no_mapping</td>\n",
       "      <td>f1</td>\n",
       "      <td>68.375934</td>\n",
       "    </tr>\n",
       "    <tr>\n",
       "      <th>6</th>\n",
       "      <td>single_middle</td>\n",
       "      <td>em</td>\n",
       "      <td>58.742353</td>\n",
       "    </tr>\n",
       "    <tr>\n",
       "      <th>7</th>\n",
       "      <td>single_middle</td>\n",
       "      <td>f1</td>\n",
       "      <td>70.233672</td>\n",
       "    </tr>\n",
       "  </tbody>\n",
       "</table>\n",
       "</div>"
      ],
      "text/plain": [
       "                neuron_mapping metrics  performance\n",
       "0  multiple_single_middle_late      em    58.752444\n",
       "1  multiple_single_middle_late      f1    70.210375\n",
       "2   multiple_single_multilayer      em    58.727215\n",
       "3   multiple_single_multilayer      f1    70.499135\n",
       "4                   no_mapping      em    56.501419\n",
       "5                   no_mapping      f1    68.375934\n",
       "6                single_middle      em    58.742353\n",
       "7                single_middle      f1    70.233672"
      ]
     },
     "execution_count": 24,
     "metadata": {},
     "output_type": "execute_result"
    }
   ],
   "source": [
    "qa_task_df"
   ]
  },
  {
   "cell_type": "markdown",
   "metadata": {},
   "source": [
    "NER Performance Analysis"
   ]
  },
  {
   "cell_type": "code",
   "execution_count": 3,
   "metadata": {},
   "outputs": [],
   "source": [
    "df = pd.read_csv (\"../ner_evaluation_results.csv\")"
   ]
  },
  {
   "cell_type": "code",
   "execution_count": 5,
   "metadata": {},
   "outputs": [],
   "source": [
    "ner_task_df = df.groupby(['neuron_mapping', 'metrics'])[\"performance\"].mean().reset_index()"
   ]
  },
  {
   "cell_type": "code",
   "execution_count": 6,
   "metadata": {},
   "outputs": [
    {
     "data": {
      "text/html": [
       "<div>\n",
       "<style scoped>\n",
       "    .dataframe tbody tr th:only-of-type {\n",
       "        vertical-align: middle;\n",
       "    }\n",
       "\n",
       "    .dataframe tbody tr th {\n",
       "        vertical-align: top;\n",
       "    }\n",
       "\n",
       "    .dataframe thead th {\n",
       "        text-align: right;\n",
       "    }\n",
       "</style>\n",
       "<table border=\"1\" class=\"dataframe\">\n",
       "  <thead>\n",
       "    <tr style=\"text-align: right;\">\n",
       "      <th></th>\n",
       "      <th>neuron_mapping</th>\n",
       "      <th>metrics</th>\n",
       "      <th>performance</th>\n",
       "    </tr>\n",
       "  </thead>\n",
       "  <tbody>\n",
       "    <tr>\n",
       "      <th>0</th>\n",
       "      <td>multiple_single_middle_late</td>\n",
       "      <td>accuracy</td>\n",
       "      <td>0.980290</td>\n",
       "    </tr>\n",
       "    <tr>\n",
       "      <th>1</th>\n",
       "      <td>multiple_single_middle_late</td>\n",
       "      <td>f1</td>\n",
       "      <td>0.898166</td>\n",
       "    </tr>\n",
       "    <tr>\n",
       "      <th>2</th>\n",
       "      <td>multiple_single_multilayer</td>\n",
       "      <td>accuracy</td>\n",
       "      <td>0.980184</td>\n",
       "    </tr>\n",
       "    <tr>\n",
       "      <th>3</th>\n",
       "      <td>multiple_single_multilayer</td>\n",
       "      <td>f1</td>\n",
       "      <td>0.896748</td>\n",
       "    </tr>\n",
       "    <tr>\n",
       "      <th>4</th>\n",
       "      <td>no_mapping</td>\n",
       "      <td>accuracy</td>\n",
       "      <td>0.978772</td>\n",
       "    </tr>\n",
       "    <tr>\n",
       "      <th>5</th>\n",
       "      <td>no_mapping</td>\n",
       "      <td>f1</td>\n",
       "      <td>0.888854</td>\n",
       "    </tr>\n",
       "    <tr>\n",
       "      <th>6</th>\n",
       "      <td>single_middle</td>\n",
       "      <td>accuracy</td>\n",
       "      <td>0.980276</td>\n",
       "    </tr>\n",
       "    <tr>\n",
       "      <th>7</th>\n",
       "      <td>single_middle</td>\n",
       "      <td>f1</td>\n",
       "      <td>0.896913</td>\n",
       "    </tr>\n",
       "  </tbody>\n",
       "</table>\n",
       "</div>"
      ],
      "text/plain": [
       "                neuron_mapping   metrics  performance\n",
       "0  multiple_single_middle_late  accuracy     0.980290\n",
       "1  multiple_single_middle_late        f1     0.898166\n",
       "2   multiple_single_multilayer  accuracy     0.980184\n",
       "3   multiple_single_multilayer        f1     0.896748\n",
       "4                   no_mapping  accuracy     0.978772\n",
       "5                   no_mapping        f1     0.888854\n",
       "6                single_middle  accuracy     0.980276\n",
       "7                single_middle        f1     0.896913"
      ]
     },
     "execution_count": 6,
     "metadata": {},
     "output_type": "execute_result"
    }
   ],
   "source": [
    "ner_task_df"
   ]
  },
  {
   "cell_type": "markdown",
   "metadata": {},
   "source": [
    "GLUE Performance Analysis"
   ]
  },
  {
   "cell_type": "code",
   "execution_count": 432,
   "metadata": {},
   "outputs": [],
   "source": [
    "df = pd.read_csv (\"../glue_evaluation_results.csv\")"
   ]
  },
  {
   "cell_type": "code",
   "execution_count": 439,
   "metadata": {},
   "outputs": [],
   "source": [
    "glue_task_df = df.groupby(['neuron_mapping', 'glue_task'])[\"performance\"].mean().reset_index()"
   ]
  },
  {
   "cell_type": "code",
   "execution_count": 440,
   "metadata": {},
   "outputs": [
    {
     "data": {
      "text/html": [
       "<div>\n",
       "<style scoped>\n",
       "    .dataframe tbody tr th:only-of-type {\n",
       "        vertical-align: middle;\n",
       "    }\n",
       "\n",
       "    .dataframe tbody tr th {\n",
       "        vertical-align: top;\n",
       "    }\n",
       "\n",
       "    .dataframe thead th {\n",
       "        text-align: right;\n",
       "    }\n",
       "</style>\n",
       "<table border=\"1\" class=\"dataframe\">\n",
       "  <thead>\n",
       "    <tr style=\"text-align: right;\">\n",
       "      <th>glue_task</th>\n",
       "      <th>cola</th>\n",
       "      <th>mnli</th>\n",
       "      <th>mnli-mm</th>\n",
       "      <th>mrpc</th>\n",
       "      <th>qnli</th>\n",
       "      <th>qqp</th>\n",
       "      <th>rte</th>\n",
       "      <th>sst2</th>\n",
       "      <th>stsb</th>\n",
       "      <th>wnli</th>\n",
       "    </tr>\n",
       "    <tr>\n",
       "      <th>neuron_mapping</th>\n",
       "      <th></th>\n",
       "      <th></th>\n",
       "      <th></th>\n",
       "      <th></th>\n",
       "      <th></th>\n",
       "      <th></th>\n",
       "      <th></th>\n",
       "      <th></th>\n",
       "      <th></th>\n",
       "      <th></th>\n",
       "    </tr>\n",
       "  </thead>\n",
       "  <tbody>\n",
       "    <tr>\n",
       "      <th>multiple_single_middle_late</th>\n",
       "      <td>0.241201</td>\n",
       "      <td>0.728040</td>\n",
       "      <td>0.738463</td>\n",
       "      <td>0.779575</td>\n",
       "      <td>0.828836</td>\n",
       "      <td>0.848840</td>\n",
       "      <td>0.572879</td>\n",
       "      <td>0.873065</td>\n",
       "      <td>0.630259</td>\n",
       "      <td>0.214085</td>\n",
       "    </tr>\n",
       "    <tr>\n",
       "      <th>multiple_single_multilayer</th>\n",
       "      <td>0.250129</td>\n",
       "      <td>0.728540</td>\n",
       "      <td>0.737846</td>\n",
       "      <td>0.785942</td>\n",
       "      <td>0.830462</td>\n",
       "      <td>0.848469</td>\n",
       "      <td>0.553700</td>\n",
       "      <td>0.869194</td>\n",
       "      <td>0.665136</td>\n",
       "      <td>0.215023</td>\n",
       "    </tr>\n",
       "    <tr>\n",
       "      <th>no_mapping</th>\n",
       "      <td>0.227838</td>\n",
       "      <td>0.715497</td>\n",
       "      <td>0.727516</td>\n",
       "      <td>0.781676</td>\n",
       "      <td>0.821222</td>\n",
       "      <td>0.842703</td>\n",
       "      <td>0.554272</td>\n",
       "      <td>0.864679</td>\n",
       "      <td>0.567343</td>\n",
       "      <td>0.242254</td>\n",
       "    </tr>\n",
       "    <tr>\n",
       "      <th>single_middle</th>\n",
       "      <td>0.232094</td>\n",
       "      <td>0.729693</td>\n",
       "      <td>0.739768</td>\n",
       "      <td>0.787450</td>\n",
       "      <td>0.831549</td>\n",
       "      <td>0.848461</td>\n",
       "      <td>0.559807</td>\n",
       "      <td>0.865214</td>\n",
       "      <td>0.672314</td>\n",
       "      <td>0.239437</td>\n",
       "    </tr>\n",
       "  </tbody>\n",
       "</table>\n",
       "</div>"
      ],
      "text/plain": [
       "glue_task                        cola      mnli   mnli-mm      mrpc      qnli  \\\n",
       "neuron_mapping                                                                  \n",
       "multiple_single_middle_late  0.241201  0.728040  0.738463  0.779575  0.828836   \n",
       "multiple_single_multilayer   0.250129  0.728540  0.737846  0.785942  0.830462   \n",
       "no_mapping                   0.227838  0.715497  0.727516  0.781676  0.821222   \n",
       "single_middle                0.232094  0.729693  0.739768  0.787450  0.831549   \n",
       "\n",
       "glue_task                         qqp       rte      sst2      stsb      wnli  \n",
       "neuron_mapping                                                                 \n",
       "multiple_single_middle_late  0.848840  0.572879  0.873065  0.630259  0.214085  \n",
       "multiple_single_multilayer   0.848469  0.553700  0.869194  0.665136  0.215023  \n",
       "no_mapping                   0.842703  0.554272  0.864679  0.567343  0.242254  \n",
       "single_middle                0.848461  0.559807  0.865214  0.672314  0.239437  "
      ]
     },
     "execution_count": 440,
     "metadata": {},
     "output_type": "execute_result"
    }
   ],
   "source": [
    "glue_task_df.pivot_table('performance', ['neuron_mapping'], 'glue_task')"
   ]
  },
  {
   "cell_type": "markdown",
   "metadata": {},
   "source": [
    "MLM Performance Analysis"
   ]
  },
  {
   "cell_type": "code",
   "execution_count": 173,
   "metadata": {},
   "outputs": [
    {
     "data": {
      "image/png": "[encoded data removed]",
      "text/plain": [
       "<Figure size 432x360 with 2 Axes>"
      ]
     },
     "metadata": {},
     "output_type": "display_data"
    }
   ],
   "source": [
    "import numpy as np\n",
    "import matplotlib.pyplot as plt\n",
    "# plt.style.use(\"ggplot\")\n",
    "plt.rcParams[\"font.family\"] = \"DejaVu Serif\"\n",
    "font = {'family' : 'DejaVu Serif',\n",
    "        'size'   : 15}\n",
    "plt.rc('font', **font)\n",
    "with plt.rc_context({'axes.edgecolor':'black', 'xtick.color':'black', 'ytick.color':'black', 'figure.facecolor':'white'}):\n",
    "    fig, axs = plt.subplots(2, 1, figsize=(6, 5))\n",
    "    langs = ['Standard', 'MIDDLE', 'LATE', 'FULL']\n",
    "    students = [58.63375, 54.4309, 53.2990, 52.88815]\n",
    "    errors = [2.988840883, 0.3688976077, 0.02969848481, 0.05649783182]\n",
    "    axs[0].bar(\n",
    "        langs,students,color=['#ddcc77', \"#117733\", \"#44aa99\", \"#88ccee\"], edgecolor='black',\n",
    "        yerr=errors, align='center', ecolor='black', capsize=10\n",
    "    )\n",
    "    axs[0].set_ylim(50,65)\n",
    "    langs = ['Standard', 'MIDDLE', 'LATE', 'FULL']\n",
    "    students = [29.5069, 26.0449, 25.9698, 24.84965]\n",
    "    errors = [0.3184808942, 0.93, 0.626204175, 0.578201215]\n",
    "    axs[1].bar(\n",
    "        langs,students,color=['#ddcc77', \"#117733\", \"#44aa99\", \"#88ccee\"], edgecolor='black',\n",
    "        yerr=errors, align='center', ecolor='black', capsize=10\n",
    "    )\n",
    "    axs[1].set_ylim(20,35)\n",
    "    axs[0].set_ylabel(\"perplexity\")\n",
    "    axs[1].set_ylabel(\"perplexity\")\n",
    "    axs[0].set_title(\"English Wikipedia 15M\")\n",
    "    axs[1].set_title(\"English Wikipedia\")\n",
    "    fig.tight_layout()\n",
    "    axs[0].spines[\"top\"].set_linewidth(2)\n",
    "    axs[0].spines[\"bottom\"].set_linewidth(2)\n",
    "    axs[0].spines[\"left\"].set_linewidth(2)\n",
    "    axs[0].spines[\"right\"].set_linewidth(2)\n",
    "    axs[1].spines[\"top\"].set_linewidth(2)\n",
    "    axs[1].spines[\"bottom\"].set_linewidth(2)\n",
    "    axs[1].spines[\"left\"].set_linewidth(2)\n",
    "    axs[1].spines[\"right\"].set_linewidth(2)\n",
    "    axs[0].xaxis.grid(color='grey', linestyle='-.', linewidth=1)\n",
    "    axs[0].yaxis.grid(color='grey', linestyle='-.', linewidth=1)\n",
    "    axs[1].xaxis.grid(color='grey', linestyle='-.', linewidth=1)\n",
    "    axs[1].yaxis.grid(color='grey', linestyle='-.', linewidth=1)\n",
    "    plt.savefig(\"../paper_figures/ppl_last.png\", dpi=1000, bbox_inches='tight')"
   ]
  },
  {
   "cell_type": "code",
   "execution_count": null,
   "metadata": {},
   "outputs": [],
   "source": []
  }
 ],
 "metadata": {
  "kernelspec": {
   "display_name": "Python 3",
   "language": "python",
   "name": "python3"
  },
  "language_info": {
   "codemirror_mode": {
    "name": "ipython",
    "version": 3
   },
   "file_extension": ".py",
   "mimetype": "text/x-python",
   "name": "python",
   "nbconvert_exporter": "python",
   "pygments_lexer": "ipython3",
   "version": "3.7.6"
  }
 },
 "nbformat": 4,
 "nbformat_minor": 4
}
